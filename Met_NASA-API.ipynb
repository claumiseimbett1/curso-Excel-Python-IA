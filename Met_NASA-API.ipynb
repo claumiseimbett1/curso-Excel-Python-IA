{
 "cells": [
  {
   "cell_type": "code",
   "execution_count": 1,
   "id": "cc16e61f",
   "metadata": {},
   "outputs": [],
   "source": [
    "import pandas as pd\n",
    "\n",
    "# Parámetros\n",
    "lat = 8.75  # Montería\n",
    "lon = -75.88\n",
    "start = \"20240101\"\n",
    "end = \"20241231\"\n",
    "\n",
    "# URL API\n",
    "url = f\"https://power.larc.nasa.gov/api/temporal/daily/point?parameters=T2M,T2M_MAX,T2M_MIN,PRECTOTCORR,RH2M&community=AG&longitude={lon}&latitude={lat}&start={start}&end={end}&format=JSON\"\n",
    "\n",
    "# Descargar\n",
    "import requests\n",
    "response = requests.get(url)\n",
    "data = response.json()\n",
    "\n",
    "# Convertir a DataFrame\n",
    "df = pd.DataFrame(data['properties']['parameter'])\n",
    "df['date'] = pd.to_datetime(df.index, format='%Y%m%d')\n",
    "\n",
    "# Guardar\n",
    "df.to_csv('datos_meteorologicos_monteria_2024.csv')"
   ]
  }
 ],
 "metadata": {
  "kernelspec": {
   "display_name": "Python 3",
   "language": "python",
   "name": "python3"
  },
  "language_info": {
   "codemirror_mode": {
    "name": "ipython",
    "version": 3
   },
   "file_extension": ".py",
   "mimetype": "text/x-python",
   "name": "python",
   "nbconvert_exporter": "python",
   "pygments_lexer": "ipython3",
   "version": "3.11.9"
  }
 },
 "nbformat": 4,
 "nbformat_minor": 5
}
